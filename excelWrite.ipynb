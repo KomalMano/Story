{
  "nbformat": 4,
  "nbformat_minor": 0,
  "metadata": {
    "colab": {
      "name": "excelWrite.ipynb",
      "provenance": [],
      "collapsed_sections": [],
      "authorship_tag": "ABX9TyPhAqy9kJfoQuPKJZRbOQog",
      "include_colab_link": true
    },
    "kernelspec": {
      "name": "python3",
      "display_name": "Python 3"
    },
    "language_info": {
      "name": "python"
    }
  },
  "cells": [
    {
      "cell_type": "markdown",
      "metadata": {
        "id": "view-in-github",
        "colab_type": "text"
      },
      "source": [
        "<a href=\"https://colab.research.google.com/github/KomalMano/Story/blob/master/excelWrite.ipynb\" target=\"_parent\"><img src=\"https://colab.research.google.com/assets/colab-badge.svg\" alt=\"Open In Colab\"/></a>"
      ]
    },
    {
      "cell_type": "code",
      "metadata": {
        "id": "kFYg3xOAENIO"
      },
      "source": [
        "import pandas as pd"
      ],
      "execution_count": 3,
      "outputs": []
    },
    {
      "cell_type": "code",
      "metadata": {
        "id": "WHB9djxJFudx"
      },
      "source": [
        "#we want to create 2 datafrme ,write in 1 single excel file as 2 different sheets\n",
        "df_stocks = pd.DataFrame({\n",
        "    'tickers':['GOOGLE','WMT','MSFT'],\n",
        "    'price':[845,65,64],\n",
        "    'pe':[30,14,30],\n",
        "    'eps':[27,4,2]\n",
        "})\n",
        "df_weather = pd.DataFrame({\n",
        "    'day':['1/1/2017','1/2/2017','1/3/2017'],\n",
        "    'temp':[32,35,28],\n",
        "    'event':['Rain','Sunny','Snow']\n",
        "})"
      ],
      "execution_count": 9,
      "outputs": []
    },
    {
      "cell_type": "code",
      "metadata": {
        "id": "OI8vpOOlFs8Y"
      },
      "source": [
        "with pd.ExcelWriter('stocks_weather.xlsx') as writer:\n",
        "  df_stocks.to_excel(writer, sheet_name=\"stocks\")\n",
        "  df_weather.to_excel(writer,sheet_name=\"weather\")"
      ],
      "execution_count": 10,
      "outputs": []
    },
    {
      "cell_type": "code",
      "metadata": {
        "id": "kJL6cI0vF5fY"
      },
      "source": [
        ""
      ],
      "execution_count": null,
      "outputs": []
    }
  ]
}