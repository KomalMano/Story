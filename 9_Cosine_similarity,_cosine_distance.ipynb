{
  "nbformat": 4,
  "nbformat_minor": 0,
  "metadata": {
    "colab": {
      "name": "9.Cosine similarity, cosine distance.ipynb",
      "provenance": [],
      "authorship_tag": "ABX9TyMKTtDlT6dcAN2mUqLWccaJ",
      "include_colab_link": true
    },
    "kernelspec": {
      "name": "python3",
      "display_name": "Python 3"
    },
    "language_info": {
      "name": "python"
    }
  },
  "cells": [
    {
      "cell_type": "markdown",
      "metadata": {
        "id": "view-in-github",
        "colab_type": "text"
      },
      "source": [
        "<a href=\"https://colab.research.google.com/github/KomalMano/Story/blob/master/9_Cosine_similarity%2C_cosine_distance.ipynb\" target=\"_parent\"><img src=\"https://colab.research.google.com/assets/colab-badge.svg\" alt=\"Open In Colab\"/></a>"
      ]
    },
    {
      "cell_type": "code",
      "metadata": {
        "id": "idDEdGCOyRNS"
      },
      "source": [
        "from sklearn.metrics.pairwise import cosine_similarity, cosine_distances"
      ],
      "execution_count": 1,
      "outputs": []
    },
    {
      "cell_type": "code",
      "metadata": {
        "colab": {
          "base_uri": "https://localhost:8080/"
        },
        "id": "B4rH9yw9yoZB",
        "outputId": "902456b6-3685-4447-bd93-e5b8d5bfa3d9"
      },
      "source": [
        "cosine_similarity([[3,1]],[[6,2]]) #2 dimentional array method"
      ],
      "execution_count": 2,
      "outputs": [
        {
          "output_type": "execute_result",
          "data": {
            "text/plain": [
              "array([[1.]])"
            ]
          },
          "metadata": {},
          "execution_count": 2
        }
      ]
    },
    {
      "cell_type": "code",
      "metadata": {
        "colab": {
          "base_uri": "https://localhost:8080/"
        },
        "id": "a4ns673w0MC3",
        "outputId": "e60c0fc6-dbfe-44e3-a00e-4d1f8ca1c6af"
      },
      "source": [
        "cosine_distances([[3,1]],[[6,2]])"
      ],
      "execution_count": 3,
      "outputs": [
        {
          "output_type": "execute_result",
          "data": {
            "text/plain": [
              "array([[1.11022302e-16]])"
            ]
          },
          "metadata": {},
          "execution_count": 3
        }
      ]
    },
    {
      "cell_type": "code",
      "metadata": {
        "colab": {
          "base_uri": "https://localhost:8080/"
        },
        "id": "umqQWOnl0pl1",
        "outputId": "3e7c9c5e-fa98-44c1-bd32-45331a0fa9d1"
      },
      "source": [
        "cosine_similarity([[3,1]],[[3,2]])"
      ],
      "execution_count": 4,
      "outputs": [
        {
          "output_type": "execute_result",
          "data": {
            "text/plain": [
              "array([[0.96476382]])"
            ]
          },
          "metadata": {},
          "execution_count": 4
        }
      ]
    },
    {
      "cell_type": "code",
      "metadata": {
        "id": "4c7vMgYZ1Qq_"
      },
      "source": [
        "doc1 = \"\"\"\n",
        "iphone sales contributed to 70% of revenue. iphone demand is increasing by 20% yoy. \n",
        "the main competitor phone galaxy recorded 5% less growth compared to iphone\"\n",
        "\"\"\"\n",
        "\n",
        "doc2 = \"\"\"\n",
        "The upside pressure on volumes for the iPhone 12 series, historical outperformance \n",
        "in the July-September time period heading into launch event, and further catalysts in relation\n",
        "to outperformance for iPhone 13 volumes relative to lowered investor expectations implies a \n",
        "very attractive set up for the shares.\n",
        "\"\"\"\n",
        "\n",
        "doc3 = \"\"\"\n",
        "samsung's flagship product galaxy is able to penetrate more into asian markets compared to\n",
        "iphone. galaxy is redesigned with new look that appeals young demographics. 60% of samsung revenues\n",
        "are coming from galaxy phone sales\n",
        "\"\"\"\n",
        "\n",
        "doc4 = \"\"\"\n",
        "Samsung Electronics unveils its Galaxy S21 flagship, with modest spec improvements \n",
        "and a significantly lower price point. Galaxy S21 price is lower by ~20% (much like the iPhone 12A), \n",
        "which highlights Samsung's focus on boosting shipments and regaining market share.\n",
        "\"\"\""
      ],
      "execution_count": 5,
      "outputs": []
    },
    {
      "cell_type": "code",
      "metadata": {
        "colab": {
          "base_uri": "https://localhost:8080/",
          "height": 173
        },
        "id": "qso932ew1SRF",
        "outputId": "f7c94169-9362-47ee-ba2e-671fa8d51c25"
      },
      "source": [
        "import pandas as pd\n",
        "df = pd.DataFrame([\n",
        "                   {'iphone': 3,'galaxy':1},\n",
        "                   {'iphone': 2,'galaxy':0},\n",
        "                   {'iphone': 1,'galaxy':3},\n",
        "                   {'iphone': 1,'galaxy':2},\n",
        "                   ],\n",
        "            index = [\n",
        "                     \"doc1\",\n",
        "                     \"doc2\",\n",
        "                     \"doc3\",\n",
        "                     \"doc4\",\n",
        "            ]\n",
        ")\n",
        "df"
      ],
      "execution_count": 6,
      "outputs": [
        {
          "output_type": "execute_result",
          "data": {
            "text/html": [
              "<div>\n",
              "<style scoped>\n",
              "    .dataframe tbody tr th:only-of-type {\n",
              "        vertical-align: middle;\n",
              "    }\n",
              "\n",
              "    .dataframe tbody tr th {\n",
              "        vertical-align: top;\n",
              "    }\n",
              "\n",
              "    .dataframe thead th {\n",
              "        text-align: right;\n",
              "    }\n",
              "</style>\n",
              "<table border=\"1\" class=\"dataframe\">\n",
              "  <thead>\n",
              "    <tr style=\"text-align: right;\">\n",
              "      <th></th>\n",
              "      <th>iphone</th>\n",
              "      <th>galaxy</th>\n",
              "    </tr>\n",
              "  </thead>\n",
              "  <tbody>\n",
              "    <tr>\n",
              "      <th>doc1</th>\n",
              "      <td>3</td>\n",
              "      <td>1</td>\n",
              "    </tr>\n",
              "    <tr>\n",
              "      <th>doc2</th>\n",
              "      <td>2</td>\n",
              "      <td>0</td>\n",
              "    </tr>\n",
              "    <tr>\n",
              "      <th>doc3</th>\n",
              "      <td>1</td>\n",
              "      <td>3</td>\n",
              "    </tr>\n",
              "    <tr>\n",
              "      <th>doc4</th>\n",
              "      <td>1</td>\n",
              "      <td>2</td>\n",
              "    </tr>\n",
              "  </tbody>\n",
              "</table>\n",
              "</div>"
            ],
            "text/plain": [
              "      iphone  galaxy\n",
              "doc1       3       1\n",
              "doc2       2       0\n",
              "doc3       1       3\n",
              "doc4       1       2"
            ]
          },
          "metadata": {},
          "execution_count": 6
        }
      ]
    },
    {
      "cell_type": "code",
      "metadata": {
        "colab": {
          "base_uri": "https://localhost:8080/",
          "height": 80
        },
        "id": "SzptwlwE1UWg",
        "outputId": "292bf84f-39c8-415a-8dc4-9b64b177be87"
      },
      "source": [
        "df.loc[\"doc1\":\"doc1\"]"
      ],
      "execution_count": 7,
      "outputs": [
        {
          "output_type": "execute_result",
          "data": {
            "text/html": [
              "<div>\n",
              "<style scoped>\n",
              "    .dataframe tbody tr th:only-of-type {\n",
              "        vertical-align: middle;\n",
              "    }\n",
              "\n",
              "    .dataframe tbody tr th {\n",
              "        vertical-align: top;\n",
              "    }\n",
              "\n",
              "    .dataframe thead th {\n",
              "        text-align: right;\n",
              "    }\n",
              "</style>\n",
              "<table border=\"1\" class=\"dataframe\">\n",
              "  <thead>\n",
              "    <tr style=\"text-align: right;\">\n",
              "      <th></th>\n",
              "      <th>iphone</th>\n",
              "      <th>galaxy</th>\n",
              "    </tr>\n",
              "  </thead>\n",
              "  <tbody>\n",
              "    <tr>\n",
              "      <th>doc1</th>\n",
              "      <td>3</td>\n",
              "      <td>1</td>\n",
              "    </tr>\n",
              "  </tbody>\n",
              "</table>\n",
              "</div>"
            ],
            "text/plain": [
              "      iphone  galaxy\n",
              "doc1       3       1"
            ]
          },
          "metadata": {},
          "execution_count": 7
        }
      ]
    },
    {
      "cell_type": "code",
      "metadata": {
        "colab": {
          "base_uri": "https://localhost:8080/"
        },
        "id": "64ryQEzc2p_s",
        "outputId": "0e725567-4f64-4fa0-df35-b0149507d5ce"
      },
      "source": [
        "cosine_similarity(df.loc[\"doc1\":\"doc1\"],df.loc[\"doc2\":\"doc2\"])"
      ],
      "execution_count": 11,
      "outputs": [
        {
          "output_type": "execute_result",
          "data": {
            "text/plain": [
              "array([[0.9486833]])"
            ]
          },
          "metadata": {},
          "execution_count": 11
        }
      ]
    },
    {
      "cell_type": "code",
      "metadata": {
        "colab": {
          "base_uri": "https://localhost:8080/"
        },
        "id": "oNGdi34TY0oE",
        "outputId": "8dbfb1bf-3b07-43b6-e0e7-873aa01966e9"
      },
      "source": [
        "cosine_similarity(df.loc[\"doc1\":\"doc1\"],df.loc[\"doc3\":\"doc3\"])"
      ],
      "execution_count": 14,
      "outputs": [
        {
          "output_type": "execute_result",
          "data": {
            "text/plain": [
              "array([[0.6]])"
            ]
          },
          "metadata": {},
          "execution_count": 14
        }
      ]
    },
    {
      "cell_type": "code",
      "metadata": {
        "colab": {
          "base_uri": "https://localhost:8080/"
        },
        "id": "6ti-O45eZt9c",
        "outputId": "ba6e44a3-8152-45a8-979f-2bdbac5f4644"
      },
      "source": [
        "cosine_similarity(df.loc[\"doc3\":\"doc3\"],df.loc[\"doc4\":\"doc4\"])"
      ],
      "execution_count": 15,
      "outputs": [
        {
          "output_type": "execute_result",
          "data": {
            "text/plain": [
              "array([[0.98994949]])"
            ]
          },
          "metadata": {},
          "execution_count": 15
        }
      ]
    },
    {
      "cell_type": "code",
      "metadata": {
        "colab": {
          "base_uri": "https://localhost:8080/"
        },
        "id": "MlHRcHo-aAIy",
        "outputId": "5606d6d6-b460-4a0b-8ae9-9541a1734e58"
      },
      "source": [
        "cosine_distances(df.loc[\"doc1\":\"doc1\"],df.loc[\"doc3\":\"doc3\"])"
      ],
      "execution_count": 16,
      "outputs": [
        {
          "output_type": "execute_result",
          "data": {
            "text/plain": [
              "array([[0.4]])"
            ]
          },
          "metadata": {},
          "execution_count": 16
        }
      ]
    },
    {
      "cell_type": "code",
      "metadata": {
        "id": "sqC4Nl0OaPfw"
      },
      "source": [
        ""
      ],
      "execution_count": null,
      "outputs": []
    }
  ]
}