{
  "nbformat": 4,
  "nbformat_minor": 0,
  "metadata": {
    "colab": {
      "name": "8.Logistic Regression (Multiclass Classification).ipynb",
      "provenance": [],
      "collapsed_sections": [],
      "authorship_tag": "ABX9TyM1OkryR1n+veDGlq81XOyb",
      "include_colab_link": true
    },
    "kernelspec": {
      "name": "python3",
      "display_name": "Python 3"
    },
    "language_info": {
      "name": "python"
    }
  },
  "cells": [
    {
      "cell_type": "markdown",
      "metadata": {
        "id": "view-in-github",
        "colab_type": "text"
      },
      "source": [
        "<a href=\"https://colab.research.google.com/github/KomalMano/Story/blob/master/8_Logistic_Regression_(Multiclass_Classification).ipynb\" target=\"_parent\"><img src=\"https://colab.research.google.com/assets/colab-badge.svg\" alt=\"Open In Colab\"/></a>"
      ]
    },
    {
      "cell_type": "code",
      "metadata": {
        "id": "RPvsEhkPwkuj"
      },
      "source": [
        "%matplotlib inline\n",
        "import matplotlib.pyplot as plt\n",
        "from sklearn.datasets import load_digits # search this:- digit datasets , 1797 8x8\n",
        " #sklearn has predefined or readymate data sets to use to learn machine learning.So this i am using load_datasets\n",
        " "
      ],
      "execution_count": 5,
      "outputs": []
    },
    {
      "cell_type": "code",
      "metadata": {
        "id": "wc_JqNGf1zj1"
      },
      "source": [
        "digits = load_digits() # now call load_digit method to load my training sets basically\n"
      ],
      "execution_count": 8,
      "outputs": []
    },
    {
      "cell_type": "code",
      "metadata": {
        "colab": {
          "base_uri": "https://localhost:8080/"
        },
        "id": "r3mYjwH210Cx",
        "outputId": "897ad3ea-fa38-4253-cf8a-06bf30e38c58"
      },
      "source": [
        "dir(digits) #now i want to explore what this training set contain.Contain couple of thins.\n"
      ],
      "execution_count": 10,
      "outputs": [
        {
          "output_type": "execute_result",
          "data": {
            "text/plain": [
              "['DESCR', 'data', 'images', 'target', 'target_names']"
            ]
          },
          "metadata": {},
          "execution_count": 10
        }
      ]
    },
    {
      "cell_type": "code",
      "metadata": {
        "colab": {
          "base_uri": "https://localhost:8080/"
        },
        "id": "-yJ0MS9g2z32",
        "outputId": "a676d023-3f25-4e52-96e5-5182a4ab5db5"
      },
      "source": [
        "#now lets print few elements.Now as its return the documentation there are 1797 samples. Now i am just going to print the 1st 1.\n",
        "digits.data[0]\n",
        "#its just an array 8*8 images but the image is represented as 1D array.So if u will count these it will be 64 which is 8*8.\n"
      ],
      "execution_count": 12,
      "outputs": [
        {
          "output_type": "execute_result",
          "data": {
            "text/plain": [
              "array([ 0.,  0.,  5., 13.,  9.,  1.,  0.,  0.,  0.,  0., 13., 15., 10.,\n",
              "       15.,  5.,  0.,  0.,  3., 15.,  2.,  0., 11.,  8.,  0.,  0.,  4.,\n",
              "       12.,  0.,  0.,  8.,  8.,  0.,  0.,  5.,  8.,  0.,  0.,  9.,  8.,\n",
              "        0.,  0.,  4., 11.,  0.,  1., 12.,  7.,  0.,  0.,  2., 14.,  5.,\n",
              "       10., 12.,  0.,  0.,  0.,  0.,  6., 13., 10.,  0.,  0.,  0.])"
            ]
          },
          "metadata": {},
          "execution_count": 12
        }
      ]
    },
    {
      "cell_type": "code",
      "metadata": {
        "colab": {
          "base_uri": "https://localhost:8080/",
          "height": 309
        },
        "id": "y6y3bpoF3_Gy",
        "outputId": "82359e83-cd6e-4d5f-8305-c8cbd3b0df0f"
      },
      "source": [
        "#now if u want to see this particular element then u can use matplotlib.\n",
        "plt.gray()\n",
        "plt.matshow(digits.images[0]) # what can do? it will print the corrosponding image.\n",
        "#so the data has the numeric data and images will have the actual images.\n",
        "#so u can see that data 0 and image 0. they kind relate to each of others.\n",
        "#the only difference has to is there is a numeric data and actual image here.\n"
      ],
      "execution_count": 15,
      "outputs": [
        {
          "output_type": "execute_result",
          "data": {
            "text/plain": [
              "<matplotlib.image.AxesImage at 0x7f3ceb68b5d0>"
            ]
          },
          "metadata": {},
          "execution_count": 15
        },
        {
          "output_type": "display_data",
          "data": {
            "text/plain": [
              "<Figure size 432x288 with 0 Axes>"
            ]
          },
          "metadata": {}
        },
        {
          "output_type": "display_data",
          "data": {
            "image/png": "[encoded data removed]",
            "text/plain": [
              "<Figure size 288x288 with 1 Axes>"
            ]
          },
          "metadata": {
            "needs_background": "light"
          }
        }
      ]
    },
    {
      "cell_type": "code",
      "metadata": {
        "colab": {
          "base_uri": "https://localhost:8080/",
          "height": 1000
        },
        "id": "x5f39tgI5mNZ",
        "outputId": "b74b0239-d020-4452-8452-aa5c8cbd20e9"
      },
      "source": [
        "# now if u want to print 1st 5 samples then just print like this .\n",
        "plt.gray()\n",
        "for i in range(5):\n",
        "  plt.matshow(digits.images[i])\n",
        "  #corrosponding numbers will be in this data array\n",
        "  "
      ],
      "execution_count": 17,
      "outputs": [
        {
          "output_type": "display_data",
          "data": {
            "text/plain": [
              "<Figure size 432x288 with 0 Axes>"
            ]
          },
          "metadata": {}
        },
        {
          "output_type": "display_data",
          "data": {
            "image/png": "[encoded data removed]",
            "text/plain": [
              "<Figure size 288x288 with 1 Axes>"
            ]
          },
          "metadata": {
            "needs_background": "light"
          }
        },
        {
          "output_type": "display_data",
          "data": {
            "image/png": "[encoded data removed]",
            "text/plain": [
              "<Figure size 288x288 with 1 Axes>"
            ]
          },
          "metadata": {
            "needs_background": "light"
          }
        },
        {
          "output_type": "display_data",
          "data": {
            "image/png": "[encoded data removed]",
            "text/plain": [
              "<Figure size 288x288 with 1 Axes>"
            ]
          },
          "metadata": {
            "needs_background": "light"
          }
        },
        {
          "output_type": "display_data",
          "data": {
            "image/png": "[encoded data removed]",
            "text/plain": [
              "<Figure size 288x288 with 1 Axes>"
            ]
          },
          "metadata": {
            "needs_background": "light"
          }
        },
        {
          "output_type": "display_data",
          "data": {
            "image/png": "[encoded data removed]",
            "text/plain": [
              "<Figure size 288x288 with 1 Axes>"
            ]
          },
          "metadata": {
            "needs_background": "light"
          }
        }
      ]
    },
    {
      "cell_type": "code",
      "metadata": {
        "colab": {
          "base_uri": "https://localhost:8080/"
        },
        "id": "Fl6DNwIQ6Wd6",
        "outputId": "604a752c-a15d-4229-a0eb-ede12caa4918"
      },
      "source": [
        "  #digits.data[0] use to train our model.\n",
        "  #before we do that , lets take look at a target and target need.So our target if i print.\n",
        "digits.target[0:5]\n",
        "  #so u see that 0 to 5 in literally sequence. the 1st element is 0 1 2 3 4 in images. that we printing here.\n",
        "  #its saying that this image is zero. last image is 4.\n",
        "  #So this is our complete training set which has our image as well as target variable. u know say what it is?\n"
      ],
      "execution_count": 20,
      "outputs": [
        {
          "output_type": "execute_result",
          "data": {
            "text/plain": [
              "array([0, 1, 2, 3, 4])"
            ]
          },
          "metadata": {},
          "execution_count": 20
        }
      ]
    },
    {
      "cell_type": "code",
      "metadata": {
        "id": "3KpoxNy76XET"
      },
      "source": [
        "  #So we can use data and target to train our model.\n",
        "  #before training our model the usual thing that we do is \n",
        "from sklearn.model_selection import train_test_split \n"
      ],
      "execution_count": 22,
      "outputs": []
    },
    {
      "cell_type": "code",
      "metadata": {
        "id": "aY2mhR2W6XYf"
      },
      "source": [
        "#we try to divide our data set into training and test samples\n",
        "X_train,X_test,y_train,y_test = train_test_split(digits.data, digits.target,test_size=0.2)\n",
        "#we dont want to fit our model.we dont model make such that biase it aganst the training data .\n",
        "#the data to train is different to data to testing . So thats way we split these 2.\n"
      ],
      "execution_count": 23,
      "outputs": []
    },
    {
      "cell_type": "code",
      "metadata": {
        "colab": {
          "base_uri": "https://localhost:8080/"
        },
        "id": "AdYSU_B-6Xmu",
        "outputId": "91abd51d-0d6a-494a-8629-2231a8615862"
      },
      "source": [
        "len(X_train) # So its roughly 80% all available samples\n"
      ],
      "execution_count": 25,
      "outputs": [
        {
          "output_type": "execute_result",
          "data": {
            "text/plain": [
              "1437"
            ]
          },
          "metadata": {},
          "execution_count": 25
        }
      ]
    },
    {
      "cell_type": "code",
      "metadata": {
        "colab": {
          "base_uri": "https://localhost:8080/"
        },
        "id": "l8Boy3D56YBU",
        "outputId": "381e2e6f-7670-4f5f-8229-78b53afccded"
      },
      "source": [
        "len(X_test)\n"
      ],
      "execution_count": 27,
      "outputs": [
        {
          "output_type": "execute_result",
          "data": {
            "text/plain": [
              "360"
            ]
          },
          "metadata": {},
          "execution_count": 27
        }
      ]
    },
    {
      "cell_type": "code",
      "metadata": {
        "id": "jzFLht2V4hWY"
      },
      "source": [
        "#Now i have training and spliting data set split. Now create my logistic regression model\n",
        "from sklearn.linear_model import LogisticRegression\n",
        "model = LogisticRegression()\n"
      ],
      "execution_count": 28,
      "outputs": []
    },
    {
      "cell_type": "code",
      "metadata": {
        "colab": {
          "base_uri": "https://localhost:8080/"
        },
        "id": "_vQi0oUWB46q",
        "outputId": "1d40e4e7-84a1-4ab1-ed7a-c82650332810"
      },
      "source": [
        "model.fit(X_train,y_train)\n",
        "#means model is get train to x train and y train data set \n",
        "#now i again repeat X is hand written caracters and y is out of crossponing output that this 4 number image is 4 .\n"
      ],
      "execution_count": 30,
      "outputs": [
        {
          "output_type": "stream",
          "name": "stderr",
          "text": [
            "/usr/local/lib/python3.7/dist-packages/sklearn/linear_model/_logistic.py:940: ConvergenceWarning: lbfgs failed to converge (status=1):\n",
            "STOP: TOTAL NO. of ITERATIONS REACHED LIMIT.\n",
            "\n",
            "Increase the number of iterations (max_iter) or scale the data as shown in:\n",
            "    https://scikit-learn.org/stable/modules/preprocessing.html\n",
            "Please also refer to the documentation for alternative solver options:\n",
            "    https://scikit-learn.org/stable/modules/linear_model.html#logistic-regression\n",
            "  extra_warning_msg=_LOGISTIC_SOLVER_CONVERGENCE_MSG)\n"
          ]
        },
        {
          "output_type": "execute_result",
          "data": {
            "text/plain": [
              "LogisticRegression(C=1.0, class_weight=None, dual=False, fit_intercept=True,\n",
              "                   intercept_scaling=1, l1_ratio=None, max_iter=100,\n",
              "                   multi_class='auto', n_jobs=None, penalty='l2',\n",
              "                   random_state=None, solver='lbfgs', tol=0.0001, verbose=0,\n",
              "                   warm_start=False)"
            ]
          },
          "metadata": {},
          "execution_count": 30
        }
      ]
    },
    {
      "cell_type": "code",
      "metadata": {
        "colab": {
          "base_uri": "https://localhost:8080/"
        },
        "id": "5SYFTH7QB5XY",
        "outputId": "061caf56-a30a-4cc8-ca7e-177b47dbd736"
      },
      "source": [
        "#now my model is ready now calculate the score.\n",
        "model.score(X_test,y_test)\n",
        "#and X_test is y predicted value and while those compare these y predicted values against the real value which is y test.\n"
      ],
      "execution_count": 32,
      "outputs": [
        {
          "output_type": "execute_result",
          "data": {
            "text/plain": [
              "0.9666666666666667"
            ]
          },
          "metadata": {},
          "execution_count": 32
        }
      ]
    },
    {
      "cell_type": "code",
      "metadata": {
        "colab": {
          "base_uri": "https://localhost:8080/",
          "height": 292
        },
        "id": "LIxGiZ81D8eW",
        "outputId": "0d8dcda4-d6fd-486a-aaf5-130411965e56"
      },
      "source": [
        "#now to make my actual prediction.\n",
        "plt.matshow(digits.images[67]) #now i am just pick up random samples.this is prety hard \n"
      ],
      "execution_count": 37,
      "outputs": [
        {
          "output_type": "execute_result",
          "data": {
            "text/plain": [
              "<matplotlib.image.AxesImage at 0x7f3ceaf3c2d0>"
            ]
          },
          "metadata": {},
          "execution_count": 37
        },
        {
          "output_type": "display_data",
          "data": {
            "image/png": "[encoded data removed]",
            "text/plain": [
              "<Figure size 288x288 with 1 Axes>"
            ]
          },
          "metadata": {
            "needs_background": "light"
          }
        }
      ]
    },
    {
      "cell_type": "code",
      "metadata": {
        "colab": {
          "base_uri": "https://localhost:8080/"
        },
        "id": "ajpNKIEAE4UV",
        "outputId": "a3709c55-48fb-43f8-d33b-8666f6dd176c"
      },
      "source": [
        "#now this number is actually.\n",
        "digits.target[67] # So ur to the accesss same in ur target"
      ],
      "execution_count": 38,
      "outputs": [
        {
          "output_type": "execute_result",
          "data": {
            "text/plain": [
              "6"
            ]
          },
          "metadata": {},
          "execution_count": 38
        }
      ]
    },
    {
      "cell_type": "code",
      "metadata": {
        "id": "GPKtwH4DFqVS",
        "colab": {
          "base_uri": "https://localhost:8080/"
        },
        "outputId": "ccefafd5-9415-4d39-87f0-3a618db09c5b"
      },
      "source": [
        "#now let see what our model predict. I ma not apply images bcz images are binary data.\n",
        "#my model likes numeric data more.\n",
        "#now i m using same index but using data instead of images.\n",
        "model.predict([digits.data[67]])\n",
        "# this is the error u get when u are not supplying multi dimenstional array . So i m just going to supply multi dimentional array .\n",
        "#u can see that it is predicting the trget variable all right.\n"
      ],
      "execution_count": 43,
      "outputs": [
        {
          "output_type": "execute_result",
          "data": {
            "text/plain": [
              "array([6])"
            ]
          },
          "metadata": {},
          "execution_count": 43
        }
      ]
    },
    {
      "cell_type": "code",
      "metadata": {
        "colab": {
          "base_uri": "https://localhost:8080/"
        },
        "id": "mxqU0Q-IC-Ag",
        "outputId": "3d09bb8f-75c5-46ca-afb9-c8193a5cdc07"
      },
      "source": [
        "# now i m predicting 0 to 5\n",
        "model.predict(digits.data[0:5])\n",
        "#now see my model is doing good"
      ],
      "execution_count": 46,
      "outputs": [
        {
          "output_type": "execute_result",
          "data": {
            "text/plain": [
              "array([0, 1, 2, 3, 4])"
            ]
          },
          "metadata": {},
          "execution_count": 46
        }
      ]
    },
    {
      "cell_type": "code",
      "metadata": {
        "colab": {
          "base_uri": "https://localhost:8080/"
        },
        "id": "Bteg4tHoEI9l",
        "outputId": "a25e4cfd-9bc8-4aa6-985c-3d9eeabb81e9"
      },
      "source": [
        "#so my score is .96 . How do i know where it do well. Bcz all the samples i trying to doing pretty well.\n",
        "#So i know where exactly fails? and u know i want get overall feeling of my models accuracy.and 1 of the ways doing that is confusion matrics.\n",
        "#So i want to show the what the confusion matrics look like this.\n",
        "#for that i want to need to import matrics.\n",
        "\n",
        "y_predicted = model.predict(X_test) # when i run that i predicted values run test and i create a confusion matrics \n",
        "from sklearn.metrics import confusion_matrix # before i do that i need to predicted values \n",
        "\n",
        "cm = confusion_matrix(y_test,y_predicted) # and in the confusion matrics we can supply y test which is the truth and y predicted which is what ur model predicted \n",
        "cm # and then confusion matrics back\n",
        "#when u run back get this 2*2 dimentional array and u r wondering what the hell this is.\n",
        "#So this is better visulized in matplotlib and seaborn .So that i use the library for the visulization here .\n"
      ],
      "execution_count": 52,
      "outputs": [
        {
          "output_type": "execute_result",
          "data": {
            "text/plain": [
              "array([[29,  0,  0,  0,  0,  0,  0,  0,  0,  0],\n",
              "       [ 0, 34,  0,  0,  0,  0,  0,  0,  0,  0],\n",
              "       [ 0,  0, 27,  0,  0,  0,  0,  0,  0,  0],\n",
              "       [ 0,  0,  0, 36,  0,  0,  0,  1,  2,  0],\n",
              "       [ 0,  1,  0,  0, 39,  0,  0,  0,  0,  0],\n",
              "       [ 0,  0,  0,  0,  0, 37,  0,  0,  0,  0],\n",
              "       [ 0,  1,  0,  0,  0,  0, 40,  0,  0,  0],\n",
              "       [ 0,  0,  0,  0,  0,  0,  0, 37,  0,  0],\n",
              "       [ 0,  2,  0,  0,  0,  0,  1,  0, 36,  1],\n",
              "       [ 0,  1,  0,  1,  0,  0,  0,  0,  1, 33]])"
            ]
          },
          "metadata": {},
          "execution_count": 52
        }
      ]
    },
    {
      "cell_type": "code",
      "metadata": {
        "colab": {
          "base_uri": "https://localhost:8080/",
          "height": 463
        },
        "id": "7Wx6JvLgOllW",
        "outputId": "649b1a7f-10c7-4998-80f9-abe77ad62bf8"
      },
      "source": [
        "# i am just going copy past the code for confusion matrics visualization . \n",
        "#Here i m using seaborn lib which is similarl to mtplotlib which is use for visualization .\n",
        "import seaborn as sn\n",
        "plt.figure(figsize=(10,7))\n",
        "sn.heatmap(cm, annot=True) #and i m calling here heatmap here with the confusion matrix cm variable that we r created previous\n",
        "plt.xlabel('Predicted')\n",
        "plt.ylabel('Truth')\n",
        "#when u run that this is confusion matrics u got .\n",
        "#now the way works see here is 37 number . What it means is 37 time the truth was zero and my model it predict to be zero.\n",
        "#here 2 means in in x_axis:1 and y_axis:8 means 2 times my truth was 8 meaning i feed my model the image of 8 . But my model said no it is 1.Sothese are insatances are not doing good.\n",
        "#So anywhere in both areas,if u dont see zero means ur model is not working right.\n",
        "#confusion matrics just a nice way of visualizating how ur model is well doing ."
      ],
      "execution_count": 54,
      "outputs": [
        {
          "output_type": "execute_result",
          "data": {
            "text/plain": [
              "Text(69.0, 0.5, 'Truth')"
            ]
          },
          "metadata": {},
          "execution_count": 54
        },
        {
          "output_type": "display_data",
          "data": {
            "image/png": "[encoded data removed]",
            "text/plain": [
              "<Figure size 720x504 with 2 Axes>"
            ]
          },
          "metadata": {
            "needs_background": "light"
          }
        }
      ]
    }
  ]
}