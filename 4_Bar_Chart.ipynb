{
  "nbformat": 4,
  "nbformat_minor": 0,
  "metadata": {
    "colab": {
      "name": "4.Bar_Chart.ipynb",
      "provenance": [],
      "authorship_tag": "ABX9TyPnSq0cJ1/8KPRuC2Ts2vbV",
      "include_colab_link": true
    },
    "kernelspec": {
      "name": "python3",
      "display_name": "Python 3"
    },
    "language_info": {
      "name": "python"
    }
  },
  "cells": [
    {
      "cell_type": "markdown",
      "metadata": {
        "id": "view-in-github",
        "colab_type": "text"
      },
      "source": [
        "<a href=\"https://colab.research.google.com/github/KomalMano/Story/blob/master/4_Bar_Chart.ipynb\" target=\"_parent\"><img src=\"https://colab.research.google.com/assets/colab-badge.svg\" alt=\"Open In Colab\"/></a>"
      ]
    },
    {
      "cell_type": "code",
      "metadata": {
        "id": "FZKONVISOZIB"
      },
      "source": [
        "import matplotlib.pyplot as plt\n",
        "import numpy as np\n",
        "%matplotlib inline"
      ],
      "execution_count": 1,
      "outputs": []
    },
    {
      "cell_type": "code",
      "metadata": {
        "id": "un5dE0Efc3m0"
      },
      "source": [
        "company = ['GOOGLE','AMZN','MSFT','FB']\n",
        "revenue = [90,136,89,27]"
      ],
      "execution_count": 37,
      "outputs": []
    },
    {
      "cell_type": "code",
      "metadata": {
        "colab": {
          "base_uri": "https://localhost:8080/"
        },
        "id": "wbPvPiXmdHs8",
        "outputId": "bea62758-4b7f-430f-a52f-4b4fbe7eab14"
      },
      "source": [
        "#now i want to create a bar chart of it.\n",
        "#u want to owner string values here for these arguments\n",
        "#so create simple numpy array\n",
        "xpostion = np.arange(len(company))\n",
        "xpostion"
      ],
      "execution_count": 49,
      "outputs": [
        {
          "output_type": "execute_result",
          "data": {
            "text/plain": [
              "array([0, 1, 2, 3])"
            ]
          },
          "metadata": {},
          "execution_count": 49
        }
      ]
    },
    {
      "cell_type": "code",
      "metadata": {
        "colab": {
          "base_uri": "https://localhost:8080/",
          "height": 282
        },
        "id": "iyyh42iId1n_",
        "outputId": "a8e7172a-d582-4042-9605-3b189f688392"
      },
      "source": [
        "plt.bar(xpostion,revenue ) #ypostion use for the accurate position"
      ],
      "execution_count": 50,
      "outputs": [
        {
          "output_type": "execute_result",
          "data": {
            "text/plain": [
              "<BarContainer object of 4 artists>"
            ]
          },
          "metadata": {},
          "execution_count": 50
        },
        {
          "output_type": "display_data",
          "data": {
            "image/png": "[encoded data removed]",
            "text/plain": [
              "<Figure size 432x288 with 1 Axes>"
            ]
          },
          "metadata": {
            "needs_background": "light"
          }
        }
      ]
    },
    {
      "cell_type": "code",
      "metadata": {
        "colab": {
          "base_uri": "https://localhost:8080/",
          "height": 282
        },
        "id": "ViS4kxP_eRfe",
        "outputId": "b9c1190f-8775-4f7b-9ed8-8f5f5b50f773"
      },
      "source": [
        "plt.xticks(xpostion,company) #use for the replace the numbers with the actual value\n",
        "plt.bar(xpostion,revenue )"
      ],
      "execution_count": 51,
      "outputs": [
        {
          "output_type": "execute_result",
          "data": {
            "text/plain": [
              "<BarContainer object of 4 artists>"
            ]
          },
          "metadata": {},
          "execution_count": 51
        },
        {
          "output_type": "display_data",
          "data": {
            "image/png": "[encoded data removed]",
            "text/plain": [
              "<Figure size 432x288 with 1 Axes>"
            ]
          },
          "metadata": {
            "needs_background": "light"
          }
        }
      ]
    },
    {
      "cell_type": "code",
      "metadata": {
        "colab": {
          "base_uri": "https://localhost:8080/",
          "height": 298
        },
        "id": "BHpowRaXflZL",
        "outputId": "774df409-d16e-443b-ae51-b6370bd29b77"
      },
      "source": [
        "plt.xticks(xpostion,company)\n",
        "plt.ylabel(\"revenue(bln)\")\n",
        "plt.title(\"US Tech Stocks\")\n",
        "plt.bar(xpostion,revenue )"
      ],
      "execution_count": 52,
      "outputs": [
        {
          "output_type": "execute_result",
          "data": {
            "text/plain": [
              "<BarContainer object of 4 artists>"
            ]
          },
          "metadata": {},
          "execution_count": 52
        },
        {
          "output_type": "display_data",
          "data": {
            "image/png": "[encoded data removed]",
            "text/plain": [
              "<Figure size 432x288 with 1 Axes>"
            ]
          },
          "metadata": {
            "needs_background": "light"
          }
        }
      ]
    },
    {
      "cell_type": "code",
      "metadata": {
        "colab": {
          "base_uri": "https://localhost:8080/",
          "height": 298
        },
        "id": "OyUHbdZ6gHJ0",
        "outputId": "0bdf49e6-8764-4cdd-ffe0-2b2ec42544ba"
      },
      "source": [
        "plt.xticks(xpostion,company)\n",
        "plt.ylabel(\"revenue(bln)\")\n",
        "plt.title(\"US Tech Stocks\")\n",
        "plt.bar(xpostion,revenue, label=\"Revenue\" ) #this particular measure is revenue\n",
        "\n",
        "plt.legend()"
      ],
      "execution_count": 53,
      "outputs": [
        {
          "output_type": "execute_result",
          "data": {
            "text/plain": [
              "<matplotlib.legend.Legend at 0x7f792824d6d0>"
            ]
          },
          "metadata": {},
          "execution_count": 53
        },
        {
          "output_type": "display_data",
          "data": {
            "image/png": "[encoded data removed]",
            "text/plain": [
              "<Figure size 432x288 with 1 Axes>"
            ]
          },
          "metadata": {
            "needs_background": "light"
          }
        }
      ]
    },
    {
      "cell_type": "code",
      "metadata": {
        "id": "2Q07mLbbgv65"
      },
      "source": [
        "#in revenue company generates profit side by side revenue. \n",
        "profit = [40, 2, 34, 12]"
      ],
      "execution_count": 54,
      "outputs": []
    },
    {
      "cell_type": "code",
      "metadata": {
        "colab": {
          "base_uri": "https://localhost:8080/",
          "height": 298
        },
        "id": "7BiuTgI4i7uB",
        "outputId": "92ecd26f-acb8-4cf9-a1a4-cb1dace5f2c9"
      },
      "source": [
        "plt.xticks(xpostion,company)\n",
        "plt.ylabel(\"revenue(bln)\")\n",
        "plt.title(\"US Tech Stocks\")\n",
        "plt.bar(xpostion,revenue, label=\"Revenue\" ) #this particular measure is revenue\n",
        "\n",
        "plt.bar(xpostion,profit, label=\"Profit\" ) ##now at this position the bar chat is profit\n",
        "\n",
        "plt.legend()"
      ],
      "execution_count": 58,
      "outputs": [
        {
          "output_type": "execute_result",
          "data": {
            "text/plain": [
              "<matplotlib.legend.Legend at 0x7f7927d916d0>"
            ]
          },
          "metadata": {},
          "execution_count": 58
        },
        {
          "output_type": "display_data",
          "data": {
            "image/png": "[encoded data removed]",
            "text/plain": [
              "<Figure size 432x288 with 1 Axes>"
            ]
          },
          "metadata": {
            "needs_background": "light"
          }
        }
      ]
    },
    {
      "cell_type": "code",
      "metadata": {
        "colab": {
          "base_uri": "https://localhost:8080/",
          "height": 298
        },
        "id": "jN7CVv1ZhPMQ",
        "outputId": "cb241241-fd2e-43a1-9cd2-1315dae2239a"
      },
      "source": [
        "plt.xticks(xpostion,company)\n",
        "plt.ylabel(\"revenue(bln)\")\n",
        "plt.title(\"US Tech Stocks\")\n",
        "##i want to make it different by subtracting some numbers doing it\n",
        "plt.bar(xpostion-0.2,revenue, label=\"Revenue\" )\n",
        "plt.bar(xpostion+0.2,profit, label=\"Profit\" )\n",
        "plt.legend()"
      ],
      "execution_count": 60,
      "outputs": [
        {
          "output_type": "execute_result",
          "data": {
            "text/plain": [
              "<matplotlib.legend.Legend at 0x7f7927c127d0>"
            ]
          },
          "metadata": {},
          "execution_count": 60
        },
        {
          "output_type": "display_data",
          "data": {
            "image/png": "[encoded data removed]",
            "text/plain": [
              "<Figure size 432x288 with 1 Axes>"
            ]
          },
          "metadata": {
            "needs_background": "light"
          }
        }
      ]
    },
    {
      "cell_type": "code",
      "metadata": {
        "colab": {
          "base_uri": "https://localhost:8080/",
          "height": 298
        },
        "id": "RgbiXO1Zh_LK",
        "outputId": "350f65eb-9c41-4eef-c91f-53ea2ff2b228"
      },
      "source": [
        "plt.xticks(xpostion,company)\n",
        "plt.ylabel(\"revenue(bln)\")\n",
        "plt.title(\"US Tech Stocks\")\n",
        "##controle the sidth bar just control the function\n",
        "plt.bar(xpostion-0.2,revenue, width=0.4, label=\"Revenue\" )\n",
        "plt.bar(xpostion+0.2,profit, width=0.4, label=\"Profit\" )\n",
        "plt.legend()"
      ],
      "execution_count": 61,
      "outputs": [
        {
          "output_type": "execute_result",
          "data": {
            "text/plain": [
              "<matplotlib.legend.Legend at 0x7f7927ba6f10>"
            ]
          },
          "metadata": {},
          "execution_count": 61
        },
        {
          "output_type": "display_data",
          "data": {
            "image/png": "[encoded data removed]",
            "text/plain": [
              "<Figure size 432x288 with 1 Axes>"
            ]
          },
          "metadata": {
            "needs_background": "light"
          }
        }
      ]
    },
    {
      "cell_type": "code",
      "metadata": {
        "colab": {
          "base_uri": "https://localhost:8080/",
          "height": 298
        },
        "id": "7SGa4xwwnHuF",
        "outputId": "a887c4a3-df19-40e3-c24e-97534ecf9074"
      },
      "source": [
        "#now last thing in horizontal bar chart \n",
        "plt.yticks(xpostion,company) #change x to y\n",
        "\n",
        "plt.title(\"US Tech Stocks\")\n",
        "##controle the sidth bar just control the function\n",
        "plt.barh(xpostion-0.2,revenue, label=\"Revenue\" )\n",
        "plt.barh(xpostion+0.2,profit, label=\"Profit\" )\n",
        "plt.legend()"
      ],
      "execution_count": 63,
      "outputs": [
        {
          "output_type": "execute_result",
          "data": {
            "text/plain": [
              "<matplotlib.legend.Legend at 0x7f7927b06250>"
            ]
          },
          "metadata": {},
          "execution_count": 63
        },
        {
          "output_type": "display_data",
          "data": {
            "image/png": "[encoded data removed]",
            "text/plain": [
              "<Figure size 432x288 with 1 Axes>"
            ]
          },
          "metadata": {
            "needs_background": "light"
          }
        }
      ]
    },
    {
      "cell_type": "code",
      "metadata": {
        "id": "0Z1J5A_EhqZX"
      },
      "source": [
        ""
      ],
      "execution_count": null,
      "outputs": []
    }
  ]
}