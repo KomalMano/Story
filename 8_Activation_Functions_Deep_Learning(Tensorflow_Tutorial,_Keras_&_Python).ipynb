{
  "nbformat": 4,
  "nbformat_minor": 0,
  "metadata": {
    "colab": {
      "name": "8.Activation Functions_Deep Learning(Tensorflow Tutorial, Keras & Python).ipynb",
      "provenance": [],
      "authorship_tag": "ABX9TyOHShysLYTVINil3AJ1lxXW",
      "include_colab_link": true
    },
    "kernelspec": {
      "name": "python3",
      "display_name": "Python 3"
    },
    "language_info": {
      "name": "python"
    }
  },
  "cells": [
    {
      "cell_type": "markdown",
      "metadata": {
        "id": "view-in-github",
        "colab_type": "text"
      },
      "source": [
        "<a href=\"https://colab.research.google.com/github/KomalMano/Story/blob/master/8_Activation_Functions_Deep_Learning(Tensorflow_Tutorial%2C_Keras_%26_Python).ipynb\" target=\"_parent\"><img src=\"https://colab.research.google.com/assets/colab-badge.svg\" alt=\"Open In Colab\"/></a>"
      ]
    },
    {
      "cell_type": "code",
      "metadata": {
        "id": "zJEcSy1fmcka"
      },
      "source": [
        "import math\n",
        "\n",
        "def sigmoid(x):\n",
        "  return 1 / (1+math.exp(-x))"
      ],
      "execution_count": 1,
      "outputs": []
    },
    {
      "cell_type": "code",
      "metadata": {
        "colab": {
          "base_uri": "https://localhost:8080/"
        },
        "id": "dUOlgbLryY5u",
        "outputId": "779f98c8-218c-444d-b02a-fc64ecdb331f"
      },
      "source": [
        "#sigmoid range is 1 and 0.\n",
        "sigmoid(100)\n",
        "#See 100 it wil converted into 1."
      ],
      "execution_count": 2,
      "outputs": [
        {
          "output_type": "execute_result",
          "data": {
            "text/plain": [
              "1.0"
            ]
          },
          "metadata": {},
          "execution_count": 2
        }
      ]
    },
    {
      "cell_type": "code",
      "metadata": {
        "colab": {
          "base_uri": "https://localhost:8080/"
        },
        "id": "vJsi4g3Dy1iQ",
        "outputId": "2a6970d6-8478-4c4c-9342-da398dc0b6bf"
      },
      "source": [
        "sigmoid(1)"
      ],
      "execution_count": 3,
      "outputs": [
        {
          "output_type": "execute_result",
          "data": {
            "text/plain": [
              "0.7310585786300049"
            ]
          },
          "metadata": {},
          "execution_count": 3
        }
      ]
    },
    {
      "cell_type": "code",
      "metadata": {
        "colab": {
          "base_uri": "https://localhost:8080/"
        },
        "id": "5Mkg5nrXzAGj",
        "outputId": "e62f163a-5842-4cd9-fb1e-dd3b33432de3"
      },
      "source": [
        "sigmoid(-56)\n",
        "#which is very near to 0"
      ],
      "execution_count": 4,
      "outputs": [
        {
          "output_type": "execute_result",
          "data": {
            "text/plain": [
              "4.780892883885469e-25"
            ]
          },
          "metadata": {},
          "execution_count": 4
        }
      ]
    },
    {
      "cell_type": "code",
      "metadata": {
        "colab": {
          "base_uri": "https://localhost:8080/"
        },
        "id": "sAQon-0ezAbt",
        "outputId": "d0fa8f8f-3f1d-4d39-9d9c-752bfee52eda"
      },
      "source": [
        "sigmoid(0.5)"
      ],
      "execution_count": 5,
      "outputs": [
        {
          "output_type": "execute_result",
          "data": {
            "text/plain": [
              "0.6224593312018546"
            ]
          },
          "metadata": {},
          "execution_count": 5
        }
      ]
    },
    {
      "cell_type": "code",
      "metadata": {
        "id": "mX9juG1tzGR-"
      },
      "source": [
        "#Now the 2nd function which is varient of sigmoid function is the tanh\n",
        "def tanh(x):\n",
        "  return (math.exp(x) - math.exp(-x)) / (math.exp(x) + math.exp(-x))"
      ],
      "execution_count": 6,
      "outputs": []
    },
    {
      "cell_type": "code",
      "metadata": {
        "colab": {
          "base_uri": "https://localhost:8080/"
        },
        "id": "CuJb5gD7zO1Q",
        "outputId": "a7abec9a-f2ea-41e5-e91d-cee6519ef680"
      },
      "source": [
        "#this tanh function convert the value in 1 and -1.\n",
        "tanh(-56)"
      ],
      "execution_count": 7,
      "outputs": [
        {
          "output_type": "execute_result",
          "data": {
            "text/plain": [
              "-1.0"
            ]
          },
          "metadata": {},
          "execution_count": 7
        }
      ]
    },
    {
      "cell_type": "code",
      "metadata": {
        "colab": {
          "base_uri": "https://localhost:8080/"
        },
        "id": "y-fGrIvoz3hY",
        "outputId": "42270b71-46a9-41d7-9eac-5d96aa79e82b"
      },
      "source": [
        "tanh(56)"
      ],
      "execution_count": 8,
      "outputs": [
        {
          "output_type": "execute_result",
          "data": {
            "text/plain": [
              "1.0"
            ]
          },
          "metadata": {},
          "execution_count": 8
        }
      ]
    },
    {
      "cell_type": "code",
      "metadata": {
        "colab": {
          "base_uri": "https://localhost:8080/"
        },
        "id": "fYPH5Dvdz32r",
        "outputId": "011c5ab7-adb6-4b31-b8fd-b4fe153c44f0"
      },
      "source": [
        "#if we have any intermediate value in b/w let say 1.\n",
        "tanh(1)\n",
        "#our output will be again 1 and -1"
      ],
      "execution_count": 10,
      "outputs": [
        {
          "output_type": "execute_result",
          "data": {
            "text/plain": [
              "0.7615941559557649"
            ]
          },
          "metadata": {},
          "execution_count": 10
        }
      ]
    },
    {
      "cell_type": "code",
      "metadata": {
        "id": "bF7yYISn0egN"
      },
      "source": [
        "#ReLU is extremly easy to implement.\n",
        "def relu(x):\n",
        "  return max(0,x)\n",
        "#range is 0 and which u feed give same output"
      ],
      "execution_count": 11,
      "outputs": []
    },
    {
      "cell_type": "code",
      "metadata": {
        "colab": {
          "base_uri": "https://localhost:8080/"
        },
        "id": "4x0wpjW20e3c",
        "outputId": "1506c1d6-d19a-4563-a0ab-0cb4305b7513"
      },
      "source": [
        "relu(-7)"
      ],
      "execution_count": 12,
      "outputs": [
        {
          "output_type": "execute_result",
          "data": {
            "text/plain": [
              "0"
            ]
          },
          "metadata": {},
          "execution_count": 12
        }
      ]
    },
    {
      "cell_type": "code",
      "metadata": {
        "colab": {
          "base_uri": "https://localhost:8080/"
        },
        "id": "wUsLYbk91YVQ",
        "outputId": "05f203e9-d500-486c-cbe9-9a7ca5fb5630"
      },
      "source": [
        "relu(8)"
      ],
      "execution_count": 14,
      "outputs": [
        {
          "output_type": "execute_result",
          "data": {
            "text/plain": [
              "8"
            ]
          },
          "metadata": {},
          "execution_count": 14
        }
      ]
    },
    {
      "cell_type": "code",
      "metadata": {
        "id": "Xo3o9osS1YvN"
      },
      "source": [
        "#Leaky ReLU is also very simple\n",
        "def leaky_relu(x):\n",
        "  return max(0.1*x,x)"
      ],
      "execution_count": 15,
      "outputs": []
    },
    {
      "cell_type": "code",
      "metadata": {
        "colab": {
          "base_uri": "https://localhost:8080/"
        },
        "id": "PVgoroOr1fSL",
        "outputId": "9506b136-036c-4948-f86c-3027c11291fb"
      },
      "source": [
        "leaky_relu(-100)"
      ],
      "execution_count": 16,
      "outputs": [
        {
          "output_type": "execute_result",
          "data": {
            "text/plain": [
              "-10.0"
            ]
          },
          "metadata": {},
          "execution_count": 16
        }
      ]
    },
    {
      "cell_type": "code",
      "metadata": {
        "colab": {
          "base_uri": "https://localhost:8080/"
        },
        "id": "i9slpp771fk0",
        "outputId": "8a985710-5e03-499c-8f85-c93241e7c73b"
      },
      "source": [
        "#-ve value change into but +ve not change\n",
        "leaky_relu(8)"
      ],
      "execution_count": 17,
      "outputs": [
        {
          "output_type": "execute_result",
          "data": {
            "text/plain": [
              "8"
            ]
          },
          "metadata": {},
          "execution_count": 17
        }
      ]
    },
    {
      "cell_type": "code",
      "metadata": {
        "id": "kEKnSz541797"
      },
      "source": [
        ""
      ],
      "execution_count": null,
      "outputs": []
    }
  ]
}