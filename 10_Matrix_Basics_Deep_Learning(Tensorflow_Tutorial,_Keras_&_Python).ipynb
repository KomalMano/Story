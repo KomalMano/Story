{
  "nbformat": 4,
  "nbformat_minor": 0,
  "metadata": {
    "colab": {
      "name": "10.Matrix Basics_Deep Learning(Tensorflow Tutorial, Keras & Python).ipynb",
      "provenance": [],
      "authorship_tag": "ABX9TyN3yYe39lWStEIZbx4Qb+6X",
      "include_colab_link": true
    },
    "kernelspec": {
      "name": "python3",
      "display_name": "Python 3"
    },
    "language_info": {
      "name": "python"
    }
  },
  "cells": [
    {
      "cell_type": "markdown",
      "metadata": {
        "id": "view-in-github",
        "colab_type": "text"
      },
      "source": [
        "<a href=\"https://colab.research.google.com/github/KomalMano/Story/blob/master/10_Matrix_Basics_Deep_Learning(Tensorflow_Tutorial%2C_Keras_%26_Python).ipynb\" target=\"_parent\"><img src=\"https://colab.research.google.com/assets/colab-badge.svg\" alt=\"Open In Colab\"/></a>"
      ]
    },
    {
      "cell_type": "code",
      "metadata": {
        "id": "ipr6F1d_3d9K"
      },
      "source": [
        "import numpy as np\n",
        "#numpy is used to matrix multiplication"
      ],
      "execution_count": 2,
      "outputs": []
    },
    {
      "cell_type": "code",
      "metadata": {
        "id": "6zTib0lO3tTT"
      },
      "source": [
        "revenue = np.array([[180,200,220],[24,36,40],[12,18,20]])\n",
        "expenses = np.array([[80,90,100],[10,16,20],[8,10,10]])"
      ],
      "execution_count": 3,
      "outputs": []
    },
    {
      "cell_type": "code",
      "metadata": {
        "colab": {
          "base_uri": "https://localhost:8080/"
        },
        "id": "lCEpYs0z3toD",
        "outputId": "fa0d1af0-b2ee-49a7-c17c-c05cca31136f"
      },
      "source": [
        "#simple subtraction ,this is the power of numpy\n",
        "profit = revenue - expenses\n",
        "profit"
      ],
      "execution_count": 5,
      "outputs": [
        {
          "output_type": "execute_result",
          "data": {
            "text/plain": [
              "array([[100, 110, 120],\n",
              "       [ 14,  20,  20],\n",
              "       [  4,   8,  10]])"
            ]
          },
          "metadata": {},
          "execution_count": 5
        }
      ]
    },
    {
      "cell_type": "code",
      "metadata": {
        "id": "Tdfd623M8mfi"
      },
      "source": [
        "#if u want to same thing for the unit sold eg\n",
        "price_per_unit = np.array([1000,400,1200])\n",
        "units = np.array([[30,40,50],[5,10,15],[2,5,7]])"
      ],
      "execution_count": 6,
      "outputs": []
    },
    {
      "cell_type": "code",
      "metadata": {
        "colab": {
          "base_uri": "https://localhost:8080/"
        },
        "id": "6hwqMCrO8myl",
        "outputId": "73feda2a-1b67-48ef-ca8b-58fc85885694"
      },
      "source": [
        "price_per_unit*units\n",
        "#this process is called broadcasting numpy"
      ],
      "execution_count": 7,
      "outputs": [
        {
          "output_type": "execute_result",
          "data": {
            "text/plain": [
              "array([[30000, 16000, 60000],\n",
              "       [ 5000,  4000, 18000],\n",
              "       [ 2000,  2000,  8400]])"
            ]
          },
          "metadata": {},
          "execution_count": 7
        }
      ]
    },
    {
      "cell_type": "code",
      "metadata": {
        "colab": {
          "base_uri": "https://localhost:8080/"
        },
        "id": "c9KtFqwd9rBt",
        "outputId": "e34c1e9e-c4b3-45a7-f82f-2b570cfda8a9"
      },
      "source": [
        "#but we need to get the dot product\n",
        "np.dot(price_per_unit,units)\n",
        "#this is the total sale\n",
        "#matrix is just a rows and column . Not a rocket science."
      ],
      "execution_count": 10,
      "outputs": [
        {
          "output_type": "execute_result",
          "data": {
            "text/plain": [
              "array([34400, 50000, 64400])"
            ]
          },
          "metadata": {},
          "execution_count": 10
        }
      ]
    },
    {
      "cell_type": "markdown",
      "metadata": {
        "id": "sIUGztUG_LFX"
      },
      "source": [
        "**Eg 1**"
      ]
    },
    {
      "cell_type": "code",
      "metadata": {
        "id": "UZKdAQ009rVV"
      },
      "source": [
        "revenue = np.array([[200,220,250],[68,79,105],[110,140,180],[80,85,90]])\n",
        "rupees = np.array([75])"
      ],
      "execution_count": 12,
      "outputs": []
    },
    {
      "cell_type": "code",
      "metadata": {
        "colab": {
          "base_uri": "https://localhost:8080/"
        },
        "id": "b1lJP41G-YoJ",
        "outputId": "44ab5f7e-d13f-4e70-dd09-70a06d6ca30c"
      },
      "source": [
        "revenue*rupees"
      ],
      "execution_count": 13,
      "outputs": [
        {
          "output_type": "execute_result",
          "data": {
            "text/plain": [
              "array([[15000, 16500, 18750],\n",
              "       [ 5100,  5925,  7875],\n",
              "       [ 8250, 10500, 13500],\n",
              "       [ 6000,  6375,  6750]])"
            ]
          },
          "metadata": {},
          "execution_count": 13
        }
      ]
    },
    {
      "cell_type": "markdown",
      "metadata": {
        "id": "0vDMdrdmAG8U"
      },
      "source": [
        "**Eg#2**"
      ]
    },
    {
      "cell_type": "code",
      "metadata": {
        "id": "4cWXFSml_x3Y"
      },
      "source": [
        "unit_sold = np.array([[50,60,25],[10,13,5],[40,70,52]])\n",
        "price_per_unit_sold = np.array([20,30,15])"
      ],
      "execution_count": 14,
      "outputs": []
    },
    {
      "cell_type": "code",
      "metadata": {
        "colab": {
          "base_uri": "https://localhost:8080/"
        },
        "id": "45pwfWI4AL22",
        "outputId": "ce6f42ac-bf8f-4afc-b0e6-2c00602585ef"
      },
      "source": [
        "np.dot(unit_sold,price_per_unit_sold)"
      ],
      "execution_count": 15,
      "outputs": [
        {
          "output_type": "execute_result",
          "data": {
            "text/plain": [
              "array([3175,  665, 3680])"
            ]
          },
          "metadata": {},
          "execution_count": 15
        }
      ]
    },
    {
      "cell_type": "code",
      "metadata": {
        "id": "oqLKpCV9AMAm"
      },
      "source": [
        ""
      ],
      "execution_count": null,
      "outputs": []
    }
  ]
}