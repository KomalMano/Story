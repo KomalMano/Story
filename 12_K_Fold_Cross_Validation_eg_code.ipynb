{
  "nbformat": 4,
  "nbformat_minor": 0,
  "metadata": {
    "colab": {
      "name": "12.K Fold Cross Validation_eg_code.ipynb",
      "provenance": [],
      "authorship_tag": "ABX9TyMA3FWqTOEa51NllBJXQjjK",
      "include_colab_link": true
    },
    "kernelspec": {
      "name": "python3",
      "display_name": "Python 3"
    },
    "language_info": {
      "name": "python"
    }
  },
  "cells": [
    {
      "cell_type": "markdown",
      "metadata": {
        "id": "view-in-github",
        "colab_type": "text"
      },
      "source": [
        "<a href=\"https://colab.research.google.com/github/KomalMano/Story/blob/master/12_K_Fold_Cross_Validation_eg_code.ipynb\" target=\"_parent\"><img src=\"https://colab.research.google.com/assets/colab-badge.svg\" alt=\"Open In Colab\"/></a>"
      ]
    },
    {
      "cell_type": "code",
      "metadata": {
        "id": "n__HLn0H2Noi"
      },
      "source": [
        "from sklearn.linear_model import LogisticRegression\n",
        "from sklearn.svm import SVC\n",
        "from sklearn.ensemble import RandomForestClassifier\n",
        "from sklearn.tree import DecisionTreeClassifier\n",
        "import numpy as np\n",
        "from sklearn.datasets import load_iris"
      ],
      "execution_count": 40,
      "outputs": []
    },
    {
      "cell_type": "code",
      "metadata": {
        "id": "XyOfCEbB4HKn"
      },
      "source": [
        "iris = load_iris()"
      ],
      "execution_count": 41,
      "outputs": []
    },
    {
      "cell_type": "code",
      "metadata": {
        "colab": {
          "base_uri": "https://localhost:8080/"
        },
        "id": "Jjv97Ldd8gxF",
        "outputId": "932242af-92fb-4a48-c720-0dd4463efcc2"
      },
      "source": [
        "dir(iris)"
      ],
      "execution_count": 42,
      "outputs": [
        {
          "output_type": "execute_result",
          "data": {
            "text/plain": [
              "['DESCR', 'data', 'feature_names', 'filename', 'target', 'target_names']"
            ]
          },
          "metadata": {},
          "execution_count": 42
        }
      ]
    },
    {
      "cell_type": "code",
      "metadata": {
        "id": "trolC3wz4HmJ"
      },
      "source": [
        "from sklearn.model_selection import train_test_split"
      ],
      "execution_count": 43,
      "outputs": []
    },
    {
      "cell_type": "code",
      "metadata": {
        "id": "k5TRO2au4ZnV"
      },
      "source": [
        "X_train,X_test,y_train,y_test = train_test_split(iris.data,iris.target,test_size=0.3)"
      ],
      "execution_count": 44,
      "outputs": []
    },
    {
      "cell_type": "code",
      "metadata": {
        "colab": {
          "base_uri": "https://localhost:8080/"
        },
        "id": "Y0EO-AJn4gse",
        "outputId": "9a917a6b-c633-49c7-a269-b6a6e4a67e77"
      },
      "source": [
        "lr = LogisticRegression()\n",
        "lr.fit(X_train,y_train)\n",
        "lr.score(X_test,y_test)"
      ],
      "execution_count": 45,
      "outputs": [
        {
          "output_type": "execute_result",
          "data": {
            "text/plain": [
              "0.9333333333333333"
            ]
          },
          "metadata": {},
          "execution_count": 45
        }
      ]
    },
    {
      "cell_type": "code",
      "metadata": {
        "colab": {
          "base_uri": "https://localhost:8080/"
        },
        "id": "voE_i29J4g_e",
        "outputId": "c94e390f-b7f0-4fb4-ea6f-4d825b0721ce"
      },
      "source": [
        "svm = SVC()\n",
        "svm.fit(X_train,y_train)\n",
        "svm.score(X_test,y_test)"
      ],
      "execution_count": 46,
      "outputs": [
        {
          "output_type": "execute_result",
          "data": {
            "text/plain": [
              "0.9333333333333333"
            ]
          },
          "metadata": {},
          "execution_count": 46
        }
      ]
    },
    {
      "cell_type": "code",
      "metadata": {
        "colab": {
          "base_uri": "https://localhost:8080/"
        },
        "id": "w7U7CQ1M9FG8",
        "outputId": "af762349-19ef-44ce-93b0-08eae1cf8a0c"
      },
      "source": [
        "rf = RandomForestClassifier()\n",
        "rf.fit(X_train,y_train)\n",
        "rf.score(X_test,y_test)"
      ],
      "execution_count": 47,
      "outputs": [
        {
          "output_type": "execute_result",
          "data": {
            "text/plain": [
              "0.9555555555555556"
            ]
          },
          "metadata": {},
          "execution_count": 47
        }
      ]
    },
    {
      "cell_type": "code",
      "metadata": {
        "colab": {
          "base_uri": "https://localhost:8080/"
        },
        "id": "5SSXIsHssOdP",
        "outputId": "b833eb81-617a-4435-f346-7fafad10c6ef"
      },
      "source": [
        "dt = tree.DecisionTreeClassifier()\n",
        "dt.fit(X_train,y_train)\n",
        "dt.score(X_test,y_test)"
      ],
      "execution_count": 48,
      "outputs": [
        {
          "output_type": "execute_result",
          "data": {
            "text/plain": [
              "0.9555555555555556"
            ]
          },
          "metadata": {},
          "execution_count": 48
        }
      ]
    },
    {
      "cell_type": "code",
      "metadata": {
        "id": "4eIaJDkL9YAJ"
      },
      "source": [
        "from sklearn.model_selection import cross_val_score"
      ],
      "execution_count": 49,
      "outputs": []
    },
    {
      "cell_type": "code",
      "metadata": {
        "colab": {
          "base_uri": "https://localhost:8080/"
        },
        "id": "BdvgQPo393vH",
        "outputId": "012a56b9-744f-48b9-e3f3-b96f543539f9"
      },
      "source": [
        "cross_val_score(LogisticRegression(),iris.data,iris.target,cv=3)"
      ],
      "execution_count": 64,
      "outputs": [
        {
          "output_type": "stream",
          "name": "stderr",
          "text": [
            "/usr/local/lib/python3.7/dist-packages/sklearn/linear_model/_logistic.py:940: ConvergenceWarning: lbfgs failed to converge (status=1):\n",
            "STOP: TOTAL NO. of ITERATIONS REACHED LIMIT.\n",
            "\n",
            "Increase the number of iterations (max_iter) or scale the data as shown in:\n",
            "    https://scikit-learn.org/stable/modules/preprocessing.html\n",
            "Please also refer to the documentation for alternative solver options:\n",
            "    https://scikit-learn.org/stable/modules/linear_model.html#logistic-regression\n",
            "  extra_warning_msg=_LOGISTIC_SOLVER_CONVERGENCE_MSG)\n"
          ]
        },
        {
          "output_type": "execute_result",
          "data": {
            "text/plain": [
              "array([0.98, 0.96, 0.98])"
            ]
          },
          "metadata": {},
          "execution_count": 64
        }
      ]
    },
    {
      "cell_type": "code",
      "metadata": {
        "colab": {
          "base_uri": "https://localhost:8080/"
        },
        "id": "Ee3aOBGx94Kh",
        "outputId": "2d5fb94d-5600-4b5c-fb76-34a7206150f1"
      },
      "source": [
        "cross_val_score(SVC(),iris.data,iris.target,cv=3)"
      ],
      "execution_count": 65,
      "outputs": [
        {
          "output_type": "execute_result",
          "data": {
            "text/plain": [
              "array([0.96, 0.98, 0.94])"
            ]
          },
          "metadata": {},
          "execution_count": 65
        }
      ]
    },
    {
      "cell_type": "code",
      "metadata": {
        "colab": {
          "base_uri": "https://localhost:8080/"
        },
        "id": "ZTp5x8nLqDnR",
        "outputId": "d1823a4e-f36e-4a20-a6f5-e39ef9839613"
      },
      "source": [
        "cross_val_score(RandomForestClassifier(n_estimators=970),iris.data,iris.target, cv=3)"
      ],
      "execution_count": 66,
      "outputs": [
        {
          "output_type": "execute_result",
          "data": {
            "text/plain": [
              "array([0.98, 0.94, 0.96])"
            ]
          },
          "metadata": {},
          "execution_count": 66
        }
      ]
    },
    {
      "cell_type": "code",
      "metadata": {
        "colab": {
          "base_uri": "https://localhost:8080/"
        },
        "id": "agWy-LFkqdWH",
        "outputId": "b60962be-d5ff-4ee9-bbf8-507bcb3f4d48"
      },
      "source": [
        "cross_val_score(DecisionTreeClassifier(),iris.data,iris.target,cv=3)"
      ],
      "execution_count": 67,
      "outputs": [
        {
          "output_type": "execute_result",
          "data": {
            "text/plain": [
              "array([0.98, 0.92, 0.98])"
            ]
          },
          "metadata": {},
          "execution_count": 67
        }
      ]
    },
    {
      "cell_type": "code",
      "metadata": {
        "id": "UBuG-k2pqdn9"
      },
      "source": [
        ""
      ],
      "execution_count": null,
      "outputs": []
    }
  ]
}